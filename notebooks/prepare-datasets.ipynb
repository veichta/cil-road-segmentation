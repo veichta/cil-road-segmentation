{
 "cells": [
  {
   "cell_type": "code",
   "execution_count": 1,
   "metadata": {},
   "outputs": [],
   "source": [
    "import os\n",
    "import uuid\n",
    "\n",
    "import numpy as np\n",
    "import pandas as pd\n",
    "from tqdm import tqdm\n",
    "import matplotlib.pyplot as plt\n",
    "\n",
    "from PIL import Image"
   ]
  },
  {
   "cell_type": "code",
   "execution_count": 10,
   "metadata": {},
   "outputs": [],
   "source": [
    "data = \"../data\"\n",
    "datasets = ['DeepGlobe-dataset', \"Massachusetts-roads-dataset\"]\n",
    "dataset_out = \"../data/big-dataset\""
   ]
  },
  {
   "cell_type": "code",
   "execution_count": 11,
   "metadata": {},
   "outputs": [
    {
     "data": {
      "text/plain": [
       "(1024, 1024)"
      ]
     },
     "execution_count": 11,
     "metadata": {},
     "output_type": "execute_result"
    }
   ],
   "source": [
    "im = Image.open(os.path.join(data, datasets[0], \"train\", \"104_mask.png\"))\n",
    "im.size"
   ]
  },
  {
   "cell_type": "code",
   "execution_count": 13,
   "metadata": {},
   "outputs": [],
   "source": [
    "# get patches of size (400, 400) from the image\n",
    "def get_patches(im, size):  # sourcery skip: for-append-to-extend\n",
    "    patches = []\n",
    "    for i in range(0, im.size[0] - size[0], size[0]//2):\n",
    "        for j in range(0, im.size[1] - size[1], size[1]//2):\n",
    "            patches.append(im.crop((i, j, i + size[0], j + size[1])))\n",
    "    return patches\n",
    "\n",
    "patches = get_patches(im, (400, 400))"
   ]
  },
  {
   "cell_type": "markdown",
   "metadata": {},
   "source": [
    "# Generate Patches from DeepGlobe\n",
    "This Dataset can be downloaded here: https://www.kaggle.com/datasets/balraj98/deepglobe-road-extraction-dataset"
   ]
  },
  {
   "cell_type": "code",
   "execution_count": 14,
   "metadata": {},
   "outputs": [],
   "source": [
    "dataset = datasets[0]\n",
    "\n",
    "# get unique names\n",
    "fnames = os.listdir(os.path.join(data, dataset, \"train\"))\n",
    "fnames = list({name.split(\"_\")[0] for name in fnames})"
   ]
  },
  {
   "cell_type": "code",
   "execution_count": 18,
   "metadata": {},
   "outputs": [
    {
     "name": "stderr",
     "output_type": "stream",
     "text": [
      "100%|██████████| 6226/6226 [12:01<00:00,  8.63it/s]\n"
     ]
    }
   ],
   "source": [
    "for fname in tqdm(fnames):\n",
    "    img = Image.open(os.path.join(data, dataset, \"train\", f\"{fname}_sat.jpg\"))\n",
    "    target = Image.open(os.path.join(data, dataset, \"train\", f\"{fname}_mask.png\"))\n",
    "\n",
    "    # get patches of size (400, 400) from the image\n",
    "    img_patches = get_patches(img, (400, 400))\n",
    "    target_patches = get_patches(target, (400, 400))\n",
    "\n",
    "    # save patches to disk\n",
    "    idx = uuid.uuid4()\n",
    "    for i in range(len(img_patches)):\n",
    "        if np.sum(target_patches[i]) > 0:\n",
    "            img_patches[i].save(os.path.join(dataset_out, \"DeepGlobe\", \"images\", f\"{idx}-{i}.jpg\"))\n",
    "            target_patches[i].save(os.path.join(dataset_out, \"DeepGlobe\", \"groundtruth\", f\"{idx}-{i}-mask.png\"))"
   ]
  },
  {
   "cell_type": "markdown",
   "metadata": {},
   "source": [
    "# Generate Patches from MRD\n",
    "This dataset can be downloaded here: https://www.kaggle.com/datasets/balraj98/massachusetts-roads-dataset"
   ]
  },
  {
   "cell_type": "code",
   "execution_count": 20,
   "metadata": {},
   "outputs": [
    {
     "name": "stderr",
     "output_type": "stream",
     "text": [
      "100%|██████████| 1108/1108 [05:22<00:00,  3.44it/s]\n",
      "100%|██████████| 49/49 [00:16<00:00,  2.98it/s]\n",
      "100%|██████████| 14/14 [00:05<00:00,  2.79it/s]\n"
     ]
    }
   ],
   "source": [
    "dataset = f\"{datasets[1]}/tiff\"\n",
    "dataset_out = dataset_out\n",
    "\n",
    "\n",
    "for split in [\"train\", \"test\", \"val\"]:\n",
    "    # get unique names\n",
    "    fnames = os.listdir(os.path.join(data, dataset, split))\n",
    "    \n",
    "    for fname in tqdm(fnames):\n",
    "        # load .tiff image\n",
    "        img = Image.open(os.path.join(data, dataset, split, fname))\n",
    "\n",
    "        # img = Image.open(os.path.join(data, dataset, \"train\", f\"{fname}\"))\n",
    "        target = Image.open(os.path.join(data, dataset, f\"{split}_labels\", f\"{fname}\"[:-1]))\n",
    "\n",
    "        # get patches of size (400, 400) from the image\n",
    "        img_patches = get_patches(img, (400, 400))\n",
    "        target_patches = get_patches(target, (400, 400))\n",
    "\n",
    "        idx = uuid.uuid4()\n",
    "        for i in range(len(img_patches)):\n",
    "            keep = np.array(img_patches[i]).mean(axis=-1) > 254\n",
    "            s = np.sum(keep)\n",
    "            if s < 100 and np.sum(target_patches[i]) > 0:\n",
    "                img_patches[i].save(os.path.join(dataset_out, \"MRD\", \"images\", f\"{idx}-{i}.jpg\"))\n",
    "                target_patches[i].save(os.path.join(dataset_out, \"MRD\", \"groundtruth\", f\"{idx}-{i}-mask.png\"))"
   ]
  },
  {
   "cell_type": "markdown",
   "metadata": {},
   "source": [
    "# Prepare CIL Data"
   ]
  },
  {
   "cell_type": "code",
   "execution_count": 21,
   "metadata": {},
   "outputs": [
    {
     "name": "stderr",
     "output_type": "stream",
     "text": [
      "100%|██████████| 144/144 [00:02<00:00, 66.46it/s]\n"
     ]
    }
   ],
   "source": [
    "data = \"../data/big-dataset\"\n",
    "dataset = \"CIL\"\n",
    "load_data = \"../data/CIL-dataset/training\"\n",
    "\n",
    "for fname in tqdm(os.listdir(os.path.join(load_data, \"images\"))):\n",
    "    if fname.endswith(\".png\"):\n",
    "        img = Image.open(os.path.join(load_data, \"images\", fname))\n",
    "        target = Image.open(os.path.join(load_data, \"groundtruth\", fname))\n",
    "\n",
    "        # convert image to jpg\n",
    "        img = img.convert(\"RGB\")\n",
    "        target = target.convert(\"RGB\")\n",
    "        \n",
    "        img.save(os.path.join(data, dataset, \"images\", f\"{fname.split('.')[0]}.jpg\"))\n",
    "        target.save(os.path.join(data, dataset, \"groundtruth\", f\"{fname.split('.')[0]}-mask.png\"))"
   ]
  },
  {
   "cell_type": "markdown",
   "metadata": {},
   "source": [
    "# Explore Datasets"
   ]
  },
  {
   "cell_type": "code",
   "execution_count": 26,
   "metadata": {},
   "outputs": [
    {
     "name": "stderr",
     "output_type": "stream",
     "text": [
      "100%|██████████| 30539/30539 [00:20<00:00, 1454.73it/s]\n",
      "100%|██████████| 75122/75122 [02:17<00:00, 545.40it/s]\n",
      "100%|██████████| 144/144 [00:00<00:00, 535.01it/s]\n"
     ]
    }
   ],
   "source": [
    "data = \"../data/big-dataset\"\n",
    "df = []\n",
    "\n",
    "for dataset in [\"MRD\", \"DeepGlobe\", \"CIL\"]:\n",
    "    masks = os.listdir(os.path.join(data, dataset, \"groundtruth\"))\n",
    "    for i, mask in tqdm(enumerate(masks), total=len(masks)):\n",
    "        if mask.endswith(\"-mask.png\"):\n",
    "            n_pixels = np.sum(np.array(Image.open(os.path.join(data, dataset, \"groundtruth\", mask))) > 0)\n",
    "            df.append((mask, dataset, n_pixels))"
   ]
  },
  {
   "cell_type": "code",
   "execution_count": 27,
   "metadata": {},
   "outputs": [
    {
     "data": {
      "text/html": [
       "<div>\n",
       "<style scoped>\n",
       "    .dataframe tbody tr th:only-of-type {\n",
       "        vertical-align: middle;\n",
       "    }\n",
       "\n",
       "    .dataframe tbody tr th {\n",
       "        vertical-align: top;\n",
       "    }\n",
       "\n",
       "    .dataframe thead th {\n",
       "        text-align: right;\n",
       "    }\n",
       "</style>\n",
       "<table border=\"1\" class=\"dataframe\">\n",
       "  <thead>\n",
       "    <tr style=\"text-align: right;\">\n",
       "      <th></th>\n",
       "      <th>filename</th>\n",
       "      <th>dataset</th>\n",
       "      <th>n_pixels</th>\n",
       "    </tr>\n",
       "  </thead>\n",
       "  <tbody>\n",
       "    <tr>\n",
       "      <th>0</th>\n",
       "      <td>b2b966ab-1846-4c7f-9c0e-a4c96e89629b-10-mask.png</td>\n",
       "      <td>MRD</td>\n",
       "      <td>13833</td>\n",
       "    </tr>\n",
       "    <tr>\n",
       "      <th>1</th>\n",
       "      <td>4c3dc67d-f82c-4721-81d8-5bafab305253-17-mask.png</td>\n",
       "      <td>MRD</td>\n",
       "      <td>11472</td>\n",
       "    </tr>\n",
       "    <tr>\n",
       "      <th>2</th>\n",
       "      <td>62995f6c-9a6b-4ae9-9afc-fde70617c195-23-mask.png</td>\n",
       "      <td>MRD</td>\n",
       "      <td>6512</td>\n",
       "    </tr>\n",
       "    <tr>\n",
       "      <th>3</th>\n",
       "      <td>f1197155-776c-4d8f-898f-09b1eec8b8cf-16-mask.png</td>\n",
       "      <td>MRD</td>\n",
       "      <td>5612</td>\n",
       "    </tr>\n",
       "    <tr>\n",
       "      <th>4</th>\n",
       "      <td>aeac50cb-4f6f-4c48-99d1-c1fd045e59dd-1-mask.png</td>\n",
       "      <td>MRD</td>\n",
       "      <td>9377</td>\n",
       "    </tr>\n",
       "  </tbody>\n",
       "</table>\n",
       "</div>"
      ],
      "text/plain": [
       "                                           filename dataset  n_pixels\n",
       "0  b2b966ab-1846-4c7f-9c0e-a4c96e89629b-10-mask.png     MRD     13833\n",
       "1  4c3dc67d-f82c-4721-81d8-5bafab305253-17-mask.png     MRD     11472\n",
       "2  62995f6c-9a6b-4ae9-9afc-fde70617c195-23-mask.png     MRD      6512\n",
       "3  f1197155-776c-4d8f-898f-09b1eec8b8cf-16-mask.png     MRD      5612\n",
       "4   aeac50cb-4f6f-4c48-99d1-c1fd045e59dd-1-mask.png     MRD      9377"
      ]
     },
     "execution_count": 27,
     "metadata": {},
     "output_type": "execute_result"
    }
   ],
   "source": [
    "dataframe = pd.DataFrame(df, columns=[\"filename\", \"dataset\", \"n_pixels\"])\n",
    "dataframe.head()"
   ]
  },
  {
   "cell_type": "code",
   "execution_count": 28,
   "metadata": {},
   "outputs": [
    {
     "data": {
      "image/png": "[encoded data removed]",
      "text/plain": [
       "<Figure size 720x1080 with 3 Axes>"
      ]
     },
     "metadata": {
      "needs_background": "light"
     },
     "output_type": "display_data"
    }
   ],
   "source": [
    "# plot hist per dataset of n_pixels in different plots using plt\n",
    "plt.figure(figsize=(10, 15))\n",
    "for i, dataset in enumerate([\"MRD\", \"DeepGlobe\", \"CIL\"]):\n",
    "    plt.subplot(3, 1, i + 1)\n",
    "    plt.hist(dataframe[dataframe[\"dataset\"] == dataset][\"n_pixels\"], bins=100, range=(0, 200000))\n",
    "    plt.title(dataset)"
   ]
  },
  {
   "cell_type": "code",
   "execution_count": 29,
   "metadata": {},
   "outputs": [
    {
     "data": {
      "text/html": [
       "<div>\n",
       "<style scoped>\n",
       "    .dataframe tbody tr th:only-of-type {\n",
       "        vertical-align: middle;\n",
       "    }\n",
       "\n",
       "    .dataframe tbody tr th {\n",
       "        vertical-align: top;\n",
       "    }\n",
       "\n",
       "    .dataframe thead th {\n",
       "        text-align: right;\n",
       "    }\n",
       "</style>\n",
       "<table border=\"1\" class=\"dataframe\">\n",
       "  <thead>\n",
       "    <tr style=\"text-align: right;\">\n",
       "      <th></th>\n",
       "      <th>filename</th>\n",
       "      <th>n_pixels</th>\n",
       "    </tr>\n",
       "    <tr>\n",
       "      <th>dataset</th>\n",
       "      <th></th>\n",
       "      <th></th>\n",
       "    </tr>\n",
       "  </thead>\n",
       "  <tbody>\n",
       "    <tr>\n",
       "      <th>CIL</th>\n",
       "      <td>142</td>\n",
       "      <td>142</td>\n",
       "    </tr>\n",
       "    <tr>\n",
       "      <th>DeepGlobe</th>\n",
       "      <td>56006</td>\n",
       "      <td>56006</td>\n",
       "    </tr>\n",
       "    <tr>\n",
       "      <th>MRD</th>\n",
       "      <td>11800</td>\n",
       "      <td>11800</td>\n",
       "    </tr>\n",
       "  </tbody>\n",
       "</table>\n",
       "</div>"
      ],
      "text/plain": [
       "           filename  n_pixels\n",
       "dataset                      \n",
       "CIL             142       142\n",
       "DeepGlobe     56006     56006\n",
       "MRD           11800     11800"
      ]
     },
     "execution_count": 29,
     "metadata": {},
     "output_type": "execute_result"
    }
   ],
   "source": [
    "# count how many masks have more than count pixels\n",
    "count = 10000\n",
    "dataframe[dataframe[\"n_pixels\"] > count].groupby(\"dataset\").count()\n"
   ]
  },
  {
   "cell_type": "markdown",
   "metadata": {},
   "source": [
    "# Create overview csv"
   ]
  },
  {
   "cell_type": "code",
   "execution_count": 81,
   "metadata": {},
   "outputs": [
    {
     "name": "stderr",
     "output_type": "stream",
     "text": [
      "100%|██████████| 144/144 [00:00<00:00, 346716.29it/s]\n",
      "100%|██████████| 75122/75122 [00:00<00:00, 476986.65it/s]\n",
      "100%|██████████| 30540/30540 [00:00<00:00, 471129.71it/s]\n"
     ]
    },
    {
     "data": {
      "text/html": [
       "<div>\n",
       "<style scoped>\n",
       "    .dataframe tbody tr th:only-of-type {\n",
       "        vertical-align: middle;\n",
       "    }\n",
       "\n",
       "    .dataframe tbody tr th {\n",
       "        vertical-align: top;\n",
       "    }\n",
       "\n",
       "    .dataframe thead th {\n",
       "        text-align: right;\n",
       "    }\n",
       "</style>\n",
       "<table border=\"1\" class=\"dataframe\">\n",
       "  <thead>\n",
       "    <tr style=\"text-align: right;\">\n",
       "      <th></th>\n",
       "      <th>filename</th>\n",
       "      <th>dataset</th>\n",
       "      <th>fpath</th>\n",
       "      <th>mpath</th>\n",
       "      <th>split</th>\n",
       "    </tr>\n",
       "  </thead>\n",
       "  <tbody>\n",
       "    <tr>\n",
       "      <th>0</th>\n",
       "      <td>satimage_132</td>\n",
       "      <td>CIL</td>\n",
       "      <td>CIL/images/satimage_132.jpg</td>\n",
       "      <td>CIL/groundtruth/satimage_132-mask.png</td>\n",
       "      <td>train</td>\n",
       "    </tr>\n",
       "    <tr>\n",
       "      <th>1</th>\n",
       "      <td>satimage_126</td>\n",
       "      <td>CIL</td>\n",
       "      <td>CIL/images/satimage_126.jpg</td>\n",
       "      <td>CIL/groundtruth/satimage_126-mask.png</td>\n",
       "      <td>train</td>\n",
       "    </tr>\n",
       "    <tr>\n",
       "      <th>2</th>\n",
       "      <td>satimage_41</td>\n",
       "      <td>CIL</td>\n",
       "      <td>CIL/images/satimage_41.jpg</td>\n",
       "      <td>CIL/groundtruth/satimage_41-mask.png</td>\n",
       "      <td>train</td>\n",
       "    </tr>\n",
       "    <tr>\n",
       "      <th>3</th>\n",
       "      <td>satimage_55</td>\n",
       "      <td>CIL</td>\n",
       "      <td>CIL/images/satimage_55.jpg</td>\n",
       "      <td>CIL/groundtruth/satimage_55-mask.png</td>\n",
       "      <td>train</td>\n",
       "    </tr>\n",
       "    <tr>\n",
       "      <th>4</th>\n",
       "      <td>satimage_69</td>\n",
       "      <td>CIL</td>\n",
       "      <td>CIL/images/satimage_69.jpg</td>\n",
       "      <td>CIL/groundtruth/satimage_69-mask.png</td>\n",
       "      <td>train</td>\n",
       "    </tr>\n",
       "  </tbody>\n",
       "</table>\n",
       "</div>"
      ],
      "text/plain": [
       "       filename dataset                        fpath  \\\n",
       "0  satimage_132     CIL  CIL/images/satimage_132.jpg   \n",
       "1  satimage_126     CIL  CIL/images/satimage_126.jpg   \n",
       "2   satimage_41     CIL   CIL/images/satimage_41.jpg   \n",
       "3   satimage_55     CIL   CIL/images/satimage_55.jpg   \n",
       "4   satimage_69     CIL   CIL/images/satimage_69.jpg   \n",
       "\n",
       "                                   mpath  split  \n",
       "0  CIL/groundtruth/satimage_132-mask.png  train  \n",
       "1  CIL/groundtruth/satimage_126-mask.png  train  \n",
       "2   CIL/groundtruth/satimage_41-mask.png  train  \n",
       "3   CIL/groundtruth/satimage_55-mask.png  train  \n",
       "4   CIL/groundtruth/satimage_69-mask.png  train  "
      ]
     },
     "execution_count": 81,
     "metadata": {},
     "output_type": "execute_result"
    }
   ],
   "source": [
    "# create dataframe containing all paths to the images\n",
    "data = \"../data/big-dataset\"\n",
    "df = []\n",
    "\n",
    "for dataset in [\"CIL\", \"DeepGlobe\", \"MRD\"]:\n",
    "    images = os.listdir(os.path.join(data, dataset, \"images\"))\n",
    "    for i, img in tqdm(enumerate(images), total=len(images)):\n",
    "        fname = img.split(\".\")[0]\n",
    "        fpath = os.path.join(dataset, \"images\", img)\n",
    "        mask_path = os.path.join(dataset, \"groundtruth\", f\"{fname}-mask.png\")\n",
    "        df.append((fname, dataset, fpath, mask_path, \"train\"))\n",
    "        \n",
    "\n",
    "df = pd.DataFrame(df, columns=[\"filename\", \"dataset\", \"fpath\", 'mpath', \"split\"])\n",
    "df.head()"
   ]
  },
  {
   "cell_type": "code",
   "execution_count": 82,
   "metadata": {},
   "outputs": [],
   "source": [
    "df.to_csv(\"../data/big-dataset/dataset.csv\", index=False)"
   ]
  }
 ],
 "metadata": {
  "kernelspec": {
   "display_name": "Python 3.8.5 ('cil')",
   "language": "python",
   "name": "python3"
  },
  "language_info": {
   "codemirror_mode": {
    "name": "ipython",
    "version": 3
   },
   "file_extension": ".py",
   "mimetype": "text/x-python",
   "name": "python",
   "nbconvert_exporter": "python",
   "pygments_lexer": "ipython3",
   "version": "3.8.5"
  },
  "orig_nbformat": 4,
  "vscode": {
   "interpreter": {
    "hash": "59da5730dedb63725a03eabf87c185a851ce9975367f26494a6abd6e4b560c65"
   }
  }
 },
 "nbformat": 4,
 "nbformat_minor": 2
}
