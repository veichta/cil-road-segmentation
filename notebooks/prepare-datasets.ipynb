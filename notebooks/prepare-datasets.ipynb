{
 "cells": [
  {
   "cell_type": "code",
   "execution_count": 62,
   "metadata": {},
   "outputs": [],
   "source": [
    "import os\n",
    "import uuid\n",
    "\n",
    "import numpy as np\n",
    "import pandas as pd\n",
    "from tqdm import tqdm\n",
    "import matplotlib.pyplot as plt\n",
    "\n",
    "from PIL import Image"
   ]
  },
  {
   "cell_type": "code",
   "execution_count": 33,
   "metadata": {},
   "outputs": [],
   "source": [
    "data = \"../data\"\n",
    "datasets = ['DeepGlobe-dataset', \"Massachusetts-roads-dataset\"]\n",
    "dataset_out = \"../data/big-dataset\""
   ]
  },
  {
   "cell_type": "code",
   "execution_count": 34,
   "metadata": {},
   "outputs": [
    {
     "data": {
      "text/plain": [
       "(1024, 1024)"
      ]
     },
     "execution_count": 34,
     "metadata": {},
     "output_type": "execute_result"
    }
   ],
   "source": [
    "im = Image.open(os.path.join(data, datasets[0], \"train\", \"104_mask.png\"))\n",
    "im.size"
   ]
  },
  {
   "cell_type": "code",
   "execution_count": 35,
   "metadata": {},
   "outputs": [],
   "source": [
    "# get patches of size (400, 400) from the image\n",
    "def get_patches(im, size):\n",
    "    patches = []\n",
    "    for i in range(0, im.size[0] - size[0], size[0]//2):\n",
    "        for j in range(0, im.size[1] - size[1], size[1]//2):\n",
    "            patches.append(im.crop((i, j, i + size[0], j + size[1])))\n",
    "    return patches\n",
    "\n",
    "patches = get_patches(im, (400, 400))"
   ]
  },
  {
   "cell_type": "markdown",
   "metadata": {},
   "source": [
    "# Generate Patches from DeepGlobe"
   ]
  },
  {
   "cell_type": "code",
   "execution_count": 35,
   "metadata": {},
   "outputs": [],
   "source": [
    "dataset = datasets[0]\n",
    "\n",
    "# get unique names\n",
    "fnames = os.listdir(os.path.join(data, dataset, \"train\"))\n",
    "fnames = list({name.split(\"_\")[0] for name in fnames})"
   ]
  },
  {
   "cell_type": "code",
   "execution_count": 38,
   "metadata": {},
   "outputs": [
    {
     "name": "stderr",
     "output_type": "stream",
     "text": [
      "100%|██████████| 6226/6226 [08:53<00:00, 11.68it/s]\n"
     ]
    }
   ],
   "source": [
    "for fname in tqdm(fnames):\n",
    "    img = Image.open(os.path.join(data, dataset, \"train\", f\"{fname}_sat.jpg\"))\n",
    "    target = Image.open(os.path.join(data, dataset, \"train\", f\"{fname}_mask.png\"))\n",
    "\n",
    "    # get patches of size (400, 400) from the image\n",
    "    img_patches = get_patches(img, (400, 400))\n",
    "    target_patches = get_patches(target, (400, 400))\n",
    "\n",
    "    # save patches to disk\n",
    "    idx = uuid.uuid4()\n",
    "    for i in range(len(img_patches)):\n",
    "        if np.sum(target_patches[i]) > 0:\n",
    "            img_patches[i].save(os.path.join(data, dataset_out, \"train/images\", f\"{idx}-{i}.jpg\"))\n",
    "            target_patches[i].save(os.path.join(data, dataset_out, \"train/groundtrouth\", f\"{idx}-{i}-mask.jpg\"))"
   ]
  },
  {
   "cell_type": "markdown",
   "metadata": {},
   "source": [
    "# Generate Patches from MRD"
   ]
  },
  {
   "cell_type": "code",
   "execution_count": 30,
   "metadata": {},
   "outputs": [
    {
     "name": "stderr",
     "output_type": "stream",
     "text": [
      "100%|██████████| 14/14 [00:04<00:00,  3.25it/s]\n"
     ]
    }
   ],
   "source": [
    "dataset = f\"{datasets[1]}/tiff\"\n",
    "dataset_out = dataset_out\n",
    "\n",
    "\n",
    "for split in [\"train\", \"test\", \"val\"]:\n",
    "    # get unique names\n",
    "    fnames = os.listdir(os.path.join(data, dataset, split))\n",
    "    \n",
    "    for fname in tqdm(fnames):\n",
    "        # load .tiff image\n",
    "        img = Image.open(os.path.join(data, dataset, split, fname))\n",
    "\n",
    "        # img = Image.open(os.path.join(data, dataset, \"train\", f\"{fname}\"))\n",
    "        target = Image.open(os.path.join(data, dataset, f\"{split}_labels\", f\"{fname}\"[:-1]))\n",
    "\n",
    "        # get patches of size (400, 400) from the image\n",
    "        img_patches = get_patches(img, (400, 400))\n",
    "        target_patches = get_patches(target, (400, 400))\n",
    "\n",
    "        idx = uuid.uuid4()\n",
    "        for i in range(len(img_patches)):\n",
    "            keep = np.array(img_patches[i]).mean(axis=-1) > 254\n",
    "            s = np.sum(keep)\n",
    "            if s < 100 and np.sum(target_patches[i]) > 0:\n",
    "                img_patches[i].save(os.path.join(data, dataset_out, \"MRD\", \"images\", f\"{idx}-{i}.jpg\"))\n",
    "                target_patches[i].save(os.path.join(data, dataset_out, \"MRD\", \"groundtrouth\", f\"{idx}-{i}-mask.jpg\"))"
   ]
  },
  {
   "cell_type": "markdown",
   "metadata": {},
   "source": [
    "# Prepare CIL Data"
   ]
  },
  {
   "cell_type": "code",
   "execution_count": 49,
   "metadata": {},
   "outputs": [
    {
     "name": "stderr",
     "output_type": "stream",
     "text": [
      "100%|██████████| 144/144 [00:01<00:00, 90.46it/s]\n"
     ]
    }
   ],
   "source": [
    "data = \"../data/big-dataset\"\n",
    "dataset = \"CIL\"\n",
    "load_data = \"../data/CIL-dataset/training\"\n",
    "\n",
    "for fname in tqdm(os.listdir(os.path.join(load_data, \"images\"))):\n",
    "    if fname.endswith(\".png\"):\n",
    "        img = Image.open(os.path.join(load_data, \"images\", fname))\n",
    "        target = Image.open(os.path.join(load_data, \"groundtruth\", fname))\n",
    "\n",
    "        # convert image to jpg\n",
    "        img = img.convert(\"RGB\")\n",
    "        target = target.convert(\"RGB\")\n",
    "        \n",
    "        img.save(os.path.join(data, dataset, \"images\", f\"{fname.split('.')[0]}.jpg\"))\n",
    "        target.save(os.path.join(data, dataset, \"groundtruth\", f\"{fname.split('.')[0]}-mask.jpg\"))"
   ]
  },
  {
   "cell_type": "markdown",
   "metadata": {},
   "source": [
    "# Explore Datasets"
   ]
  },
  {
   "cell_type": "code",
   "execution_count": 51,
   "metadata": {},
   "outputs": [
    {
     "name": "stderr",
     "output_type": "stream",
     "text": [
      "100%|██████████| 30540/30540 [00:12<00:00, 2358.70it/s]\n",
      "100%|██████████| 75123/75123 [01:44<00:00, 721.72it/s]\n",
      "100%|██████████| 145/145 [00:00<00:00, 678.65it/s]\n"
     ]
    }
   ],
   "source": [
    "data = \"../data/big-dataset\"\n",
    "df = []\n",
    "\n",
    "for dataset in [\"MRD\", \"DeepGlobe\", \"CIL\"]:\n",
    "    masks = os.listdir(os.path.join(data, dataset, \"groundtruth\"))\n",
    "    for i, mask in tqdm(enumerate(masks), total=len(masks)):\n",
    "        if mask.endswith(\"-mask.jpg\"):\n",
    "            n_pixels = np.sum(np.array(Image.open(os.path.join(data, dataset, \"groundtruth\", mask))) > 0)\n",
    "            df.append((mask, dataset, n_pixels))"
   ]
  },
  {
   "cell_type": "code",
   "execution_count": 52,
   "metadata": {},
   "outputs": [
    {
     "data": {
      "text/html": [
       "<div>\n",
       "<style scoped>\n",
       "    .dataframe tbody tr th:only-of-type {\n",
       "        vertical-align: middle;\n",
       "    }\n",
       "\n",
       "    .dataframe tbody tr th {\n",
       "        vertical-align: top;\n",
       "    }\n",
       "\n",
       "    .dataframe thead th {\n",
       "        text-align: right;\n",
       "    }\n",
       "</style>\n",
       "<table border=\"1\" class=\"dataframe\">\n",
       "  <thead>\n",
       "    <tr style=\"text-align: right;\">\n",
       "      <th></th>\n",
       "      <th>filename</th>\n",
       "      <th>dataset</th>\n",
       "      <th>n_pixels</th>\n",
       "    </tr>\n",
       "  </thead>\n",
       "  <tbody>\n",
       "    <tr>\n",
       "      <th>0</th>\n",
       "      <td>b91aaeca-0f41-4b5e-8634-e552e7ac813a-15-mask.jpg</td>\n",
       "      <td>MRD</td>\n",
       "      <td>12819</td>\n",
       "    </tr>\n",
       "    <tr>\n",
       "      <th>1</th>\n",
       "      <td>a249b55f-b1a6-40fd-869a-ac1f9006c35d-27-mask.jpg</td>\n",
       "      <td>MRD</td>\n",
       "      <td>4239</td>\n",
       "    </tr>\n",
       "    <tr>\n",
       "      <th>2</th>\n",
       "      <td>cc10526b-21ee-45b4-aee8-e1fab1ec2cab-31-mask.jpg</td>\n",
       "      <td>MRD</td>\n",
       "      <td>27584</td>\n",
       "    </tr>\n",
       "    <tr>\n",
       "      <th>3</th>\n",
       "      <td>8d48925b-ce40-40c1-af67-c329a54efa6d-4-mask.jpg</td>\n",
       "      <td>MRD</td>\n",
       "      <td>6973</td>\n",
       "    </tr>\n",
       "    <tr>\n",
       "      <th>4</th>\n",
       "      <td>3d36175c-9ce7-45c6-9e91-654ab0a2ce11-21-mask.jpg</td>\n",
       "      <td>MRD</td>\n",
       "      <td>13963</td>\n",
       "    </tr>\n",
       "  </tbody>\n",
       "</table>\n",
       "</div>"
      ],
      "text/plain": [
       "                                           filename dataset  n_pixels\n",
       "0  b91aaeca-0f41-4b5e-8634-e552e7ac813a-15-mask.jpg     MRD     12819\n",
       "1  a249b55f-b1a6-40fd-869a-ac1f9006c35d-27-mask.jpg     MRD      4239\n",
       "2  cc10526b-21ee-45b4-aee8-e1fab1ec2cab-31-mask.jpg     MRD     27584\n",
       "3   8d48925b-ce40-40c1-af67-c329a54efa6d-4-mask.jpg     MRD      6973\n",
       "4  3d36175c-9ce7-45c6-9e91-654ab0a2ce11-21-mask.jpg     MRD     13963"
      ]
     },
     "execution_count": 52,
     "metadata": {},
     "output_type": "execute_result"
    }
   ],
   "source": [
    "dataframe = pd.DataFrame(df, columns=[\"filename\", \"dataset\", \"n_pixels\"])\n",
    "dataframe.head()"
   ]
  },
  {
   "cell_type": "code",
   "execution_count": 90,
   "metadata": {},
   "outputs": [
    {
     "data": {
      "image/png": "[encoded data removed]",
      "text/plain": [
       "<Figure size 720x1080 with 3 Axes>"
      ]
     },
     "metadata": {
      "needs_background": "light"
     },
     "output_type": "display_data"
    }
   ],
   "source": [
    "# plot hist per dataset of n_pixels in different plots using plt\n",
    "plt.figure(figsize=(10, 15))\n",
    "for i, dataset in enumerate([\"MRD\", \"DeepGlobe\", \"CIL\"]):\n",
    "    plt.subplot(3, 1, i + 1)\n",
    "    plt.hist(dataframe[dataframe[\"dataset\"] == dataset][\"n_pixels\"], bins=100, range=(0, 200000))\n",
    "    plt.title(dataset)"
   ]
  },
  {
   "cell_type": "code",
   "execution_count": 95,
   "metadata": {},
   "outputs": [
    {
     "data": {
      "text/html": [
       "<div>\n",
       "<style scoped>\n",
       "    .dataframe tbody tr th:only-of-type {\n",
       "        vertical-align: middle;\n",
       "    }\n",
       "\n",
       "    .dataframe tbody tr th {\n",
       "        vertical-align: top;\n",
       "    }\n",
       "\n",
       "    .dataframe thead th {\n",
       "        text-align: right;\n",
       "    }\n",
       "</style>\n",
       "<table border=\"1\" class=\"dataframe\">\n",
       "  <thead>\n",
       "    <tr style=\"text-align: right;\">\n",
       "      <th></th>\n",
       "      <th>filename</th>\n",
       "      <th>n_pixels</th>\n",
       "    </tr>\n",
       "    <tr>\n",
       "      <th>dataset</th>\n",
       "      <th></th>\n",
       "      <th></th>\n",
       "    </tr>\n",
       "  </thead>\n",
       "  <tbody>\n",
       "    <tr>\n",
       "      <th>CIL</th>\n",
       "      <td>144</td>\n",
       "      <td>144</td>\n",
       "    </tr>\n",
       "    <tr>\n",
       "      <th>DeepGlobe</th>\n",
       "      <td>63409</td>\n",
       "      <td>63409</td>\n",
       "    </tr>\n",
       "    <tr>\n",
       "      <th>MRD</th>\n",
       "      <td>18146</td>\n",
       "      <td>18146</td>\n",
       "    </tr>\n",
       "  </tbody>\n",
       "</table>\n",
       "</div>"
      ],
      "text/plain": [
       "           filename  n_pixels\n",
       "dataset                      \n",
       "CIL             144       144\n",
       "DeepGlobe     63409     63409\n",
       "MRD           18146     18146"
      ]
     },
     "execution_count": 95,
     "metadata": {},
     "output_type": "execute_result"
    }
   ],
   "source": [
    "# count how many masks have more than count pixels\n",
    "count = 10000\n",
    "dataframe[dataframe[\"n_pixels\"] > count].groupby(\"dataset\").count()\n"
   ]
  },
  {
   "cell_type": "code",
   "execution_count": null,
   "metadata": {},
   "outputs": [],
   "source": []
  }
 ],
 "metadata": {
  "kernelspec": {
   "display_name": "Python 3.8.5 ('cil')",
   "language": "python",
   "name": "python3"
  },
  "language_info": {
   "codemirror_mode": {
    "name": "ipython",
    "version": 3
   },
   "file_extension": ".py",
   "mimetype": "text/x-python",
   "name": "python",
   "nbconvert_exporter": "python",
   "pygments_lexer": "ipython3",
   "version": "3.8.5"
  },
  "orig_nbformat": 4,
  "vscode": {
   "interpreter": {
    "hash": "59da5730dedb63725a03eabf87c185a851ce9975367f26494a6abd6e4b560c65"
   }
  }
 },
 "nbformat": 4,
 "nbformat_minor": 2
}
